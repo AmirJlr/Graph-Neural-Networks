{
  "nbformat": 4,
  "nbformat_minor": 0,
  "metadata": {
    "colab": {
      "provenance": [],
      "authorship_tag": "ABX9TyO+efi1Qn47SnUY/I8JeRJ1",
      "include_colab_link": true
    },
    "kernelspec": {
      "name": "python3",
      "display_name": "Python 3"
    },
    "language_info": {
      "name": "python"
    }
  },
  "cells": [
    {
      "cell_type": "markdown",
      "metadata": {
        "id": "view-in-github",
        "colab_type": "text"
      },
      "source": [
        "<a href=\"https://colab.research.google.com/github/AmirJlr/Graph-Neural-Networks/blob/master/01/intro_networkX.ipynb\" target=\"_parent\"><img src=\"https://colab.research.google.com/assets/colab-badge.svg\" alt=\"Open In Colab\"/></a>"
      ]
    },
    {
      "cell_type": "markdown",
      "source": [
        "# Intro NetworkX\n",
        "\n",
        "graph representation formats :\n",
        "- COO (get link from pair of coordinates)\n",
        "- Adjacency Matrix (v * v) -> sparse matrix\n"
      ],
      "metadata": {
        "id": "VE-_u66eXpgQ"
      }
    },
    {
      "cell_type": "code",
      "execution_count": 5,
      "metadata": {
        "id": "oJvG7sYsW7WU"
      },
      "outputs": [],
      "source": [
        "# Define a graph (4 Nodes)\n",
        "edge_list = [\n",
        "    [0, 1],\n",
        "    [0, 2],\n",
        "    [0, 3],\n",
        "    [1, 0],\n",
        "    [2, 0],\n",
        "    [2, 3],\n",
        "    [3, 2],\n",
        "    [3, 0],\n",
        "]\n",
        "\n",
        "# 1 Weight for each edge\n",
        "edge_weight = [\n",
        "    35., # Weight for nodes (0,1)\n",
        "    48., # Weight for nodes (0,2)\n",
        "    12., # Weight for nodes (0,3)\n",
        "    10., # Weight for nodes (1,0)\n",
        "    70., # Weight for nodes (2,0)\n",
        "    5.,  # Weight for nodes (2,3)\n",
        "    15., # Weight for nodes (3,2)\n",
        "    8.,  # Weight for nodes (3,0)\n",
        "]"
      ]
    },
    {
      "cell_type": "code",
      "source": [
        "# Define Node Feature\n",
        "# 6 Features for each node (4x6 - Number of nodes x Number of features)\n",
        "node_features = [\n",
        "    [-8, 1, 5, 8, 2, -3], # Features of Node 0\n",
        "    [-1, 0, 2, -3, 0, 1], # Features of Node 1\n",
        "    [1, -1, 0, -1, 2, 1], # Features of Node 2\n",
        "    [0, 1, 4, -2, 3, 4],  # Features of Node 3\n",
        "]"
      ],
      "metadata": {
        "id": "tem7JuqdYpMc"
      },
      "execution_count": 4,
      "outputs": []
    },
    {
      "cell_type": "code",
      "source": [
        "# Graph Digest :\n",
        "\n",
        "num_nodes = len(node_features)\n",
        "num_edges = len(edge_list)\n",
        "num_node_features = len(node_features[0])\n",
        "\n",
        "print(\"Number of nodes: \", num_nodes)\n",
        "print(\"Number of edges: \", num_edges)\n",
        "print(\"Number of features per node (Length of feature vector): \", num_node_features, \"\\n\")\n",
        ""
      ],
      "metadata": {
        "colab": {
          "base_uri": "https://localhost:8080/"
        },
        "id": "5Tbvz8f2ZQ-Y",
        "outputId": "6afa6d28-a29f-4bc3-c2ff-16a32dc4ea05"
      },
      "execution_count": 6,
      "outputs": [
        {
          "output_type": "stream",
          "name": "stdout",
          "text": [
            "Number of nodes:  4\n",
            "Number of edges:  8\n",
            "Number of features per node (Length of feature vector):  6 \n",
            "\n"
          ]
        }
      ]
    },
    {
      "cell_type": "code",
      "source": [
        "import networkx as nx\n",
        "\n",
        "# Create the graph\n",
        "G = nx.Graph()\n",
        "G.add_nodes_from(range(num_nodes))\n",
        "G.add_edges_from(edge_list)\n",
        "nx.draw_networkx(G)"
      ],
      "metadata": {
        "colab": {
          "base_uri": "https://localhost:8080/",
          "height": 406
        },
        "id": "GXjq2ilsZ47-",
        "outputId": "0b2cd0e4-6d6c-4563-d609-6511321d75f3"
      },
      "execution_count": 7,
      "outputs": [
        {
          "output_type": "display_data",
          "data": {
            "text/plain": [
              "<Figure size 640x480 with 1 Axes>"
            ],
            "image/png": "[encoded data removed]"
          },
          "metadata": {}
        }
      ]
    },
    {
      "cell_type": "code",
      "source": [],
      "metadata": {
        "id": "f02R5JW8aLhe"
      },
      "execution_count": null,
      "outputs": []
    }
  ]
}