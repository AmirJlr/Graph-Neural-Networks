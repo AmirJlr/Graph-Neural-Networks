{
 "nbformat": 4,
 "nbformat_minor": 0,
 "metadata": {
  "colab": {
   "provenance": [],
   "gpuType": "T4"
  },
  "kernelspec": {
   "name": "python3",
   "display_name": "Python 3"
  },
  "language_info": {
   "name": "python"
  },
  "accelerator": "GPU"
 },
 "cells": [
  {
   "cell_type": "code",
   "source": [
    "!pip install dgl"
   ],
   "metadata": {
    "colab": {
     "base_uri": "https://localhost:8080/"
    },
    "id": "sHqCmLSq8AR1",
    "outputId": "8c0c9153-c2a0-45a8-f19d-6872235944b3",
    "pycharm": {
     "name": "#%%\n"
    }
   },
   "execution_count": 1,
   "outputs": [
    {
     "output_type": "stream",
     "name": "stdout",
     "text": [
      "Requirement already satisfied: dgl in /usr/local/lib/python3.10/dist-packages (1.1.2)\n",
      "Requirement already satisfied: numpy>=1.14.0 in /usr/local/lib/python3.10/dist-packages (from dgl) (1.23.5)\n",
      "Requirement already satisfied: scipy>=1.1.0 in /usr/local/lib/python3.10/dist-packages (from dgl) (1.11.3)\n",
      "Requirement already satisfied: networkx>=2.1 in /usr/local/lib/python3.10/dist-packages (from dgl) (3.1)\n",
      "Requirement already satisfied: requests>=2.19.0 in /usr/local/lib/python3.10/dist-packages (from dgl) (2.31.0)\n",
      "Requirement already satisfied: tqdm in /usr/local/lib/python3.10/dist-packages (from dgl) (4.66.1)\n",
      "Requirement already satisfied: psutil>=5.8.0 in /usr/local/lib/python3.10/dist-packages (from dgl) (5.9.5)\n",
      "Requirement already satisfied: charset-normalizer<4,>=2 in /usr/local/lib/python3.10/dist-packages (from requests>=2.19.0->dgl) (3.3.0)\n",
      "Requirement already satisfied: idna<4,>=2.5 in /usr/local/lib/python3.10/dist-packages (from requests>=2.19.0->dgl) (3.4)\n",
      "Requirement already satisfied: urllib3<3,>=1.21.1 in /usr/local/lib/python3.10/dist-packages (from requests>=2.19.0->dgl) (2.0.6)\n",
      "Requirement already satisfied: certifi>=2017.4.17 in /usr/local/lib/python3.10/dist-packages (from requests>=2.19.0->dgl) (2023.7.22)\n"
     ]
    }
   ]
  },
  {
   "cell_type": "code",
   "source": [
    "import dgl"
   ],
   "metadata": {
    "id": "ktHNfHaz8Mb1",
    "pycharm": {
     "name": "#%%\n"
    }
   },
   "execution_count": 2,
   "outputs": []
  },
  {
   "cell_type": "code",
   "execution_count": 3,
   "outputs": [
    {
     "output_type": "stream",
     "name": "stdout",
     "text": [
      "  NumNodes: 3327\n",
      "  NumEdges: 9228\n",
      "  NumFeats: 3703\n",
      "  NumClasses: 6\n",
      "  NumTrainingSamples: 120\n",
      "  NumValidationSamples: 500\n",
      "  NumTestSamples: 1000\n",
      "Done loading data from cached files.\n"
     ]
    },
    {
     "output_type": "execute_result",
     "data": {
      "text/plain": [
       "Dataset(\"citeseer\", num_graphs=1, save_path=/root/.dgl/citeseer_d6836239)"
      ]
     },
     "metadata": {},
     "execution_count": 3
    }
   ],
   "source": [
    "dataset = dgl.data.CiteseerGraphDataset()\n",
    "dataset"
   ],
   "metadata": {
    "pycharm": {
     "name": "#%%\n"
    },
    "colab": {
     "base_uri": "https://localhost:8080/"
    },
    "id": "I1BBi29J8vRn",
    "outputId": "e563a363-39f5-4d30-d26e-fb7da69e4669"
   }
  },
  {
   "cell_type": "code",
   "source": [
    "graph = dataset[0]\n",
    "graph"
   ],
   "metadata": {
    "colab": {
     "base_uri": "https://localhost:8080/"
    },
    "id": "5SB6Gwih8Olz",
    "outputId": "ddf622db-611f-4dfd-c5bc-2bf80b9833b6",
    "pycharm": {
     "name": "#%%\n"
    }
   },
   "execution_count": 4,
   "outputs": [
    {
     "output_type": "execute_result",
     "data": {
      "text/plain": [
       "Graph(num_nodes=3327, num_edges=9228,\n",
       "      ndata_schemes={'feat': Scheme(shape=(3703,), dtype=torch.float32), 'label': Scheme(shape=(), dtype=torch.int64), 'test_mask': Scheme(shape=(), dtype=torch.bool), 'val_mask': Scheme(shape=(), dtype=torch.bool), 'train_mask': Scheme(shape=(), dtype=torch.bool)}\n",
       "      edata_schemes={})"
      ]
     },
     "metadata": {},
     "execution_count": 4
    }
   ]
  },
  {
   "cell_type": "code",
   "source": [
    "features = graph.ndata['feat']\n",
    "labels = graph.ndata['label']"
   ],
   "metadata": {
    "id": "G_xOcz2T8WXq",
    "pycharm": {
     "name": "#%%\n"
    }
   },
   "execution_count": 5,
   "outputs": []
  },
  {
   "cell_type": "code",
   "source": [
    "train_mask = graph.ndata['train_mask']\n",
    "test_mask = graph.ndata['test_mask']"
   ],
   "metadata": {
    "id": "d_tGpFVT8nRS",
    "pycharm": {
     "name": "#%%\n"
    }
   },
   "execution_count": 6,
   "outputs": []
  },
  {
   "cell_type": "code",
   "source": [
    "train_mask"
   ],
   "metadata": {
    "colab": {
     "base_uri": "https://localhost:8080/"
    },
    "id": "bZqe8LGD83Et",
    "outputId": "cbb4afa1-0fb2-4f03-9fe9-376da40e8371",
    "pycharm": {
     "name": "#%%\n"
    }
   },
   "execution_count": 7,
   "outputs": [
    {
     "output_type": "execute_result",
     "data": {
      "text/plain": [
       "tensor([ True,  True,  True,  ..., False, False, False])"
      ]
     },
     "metadata": {},
     "execution_count": 7
    }
   ]
  },
  {
   "cell_type": "code",
   "source": [
    "labels[train_mask]"
   ],
   "metadata": {
    "colab": {
     "base_uri": "https://localhost:8080/"
    },
    "id": "bXCPBD__85NR",
    "outputId": "7ab4a797-3e20-45e5-b761-fc13fd8c37d5",
    "pycharm": {
     "name": "#%%\n"
    }
   },
   "execution_count": 8,
   "outputs": [
    {
     "output_type": "execute_result",
     "data": {
      "text/plain": [
       "tensor([3, 1, 5, 5, 3, 1, 3, 0, 3, 5, 2, 4, 2, 1, 2, 3, 2, 4, 4, 0, 1, 5, 5, 3,\n",
       "        5, 2, 5, 2, 4, 2, 2, 2, 4, 5, 2, 3, 4, 5, 3, 3, 2, 1, 2, 1, 5, 1, 1, 4,\n",
       "        2, 3, 3, 2, 5, 2, 5, 1, 4, 1, 4, 2, 2, 3, 4, 5, 5, 1, 3, 3, 4, 2, 4, 1,\n",
       "        1, 5, 0, 2, 0, 3, 5, 2, 4, 1, 1, 4, 4, 0, 4, 4, 5, 3, 5, 5, 4, 5, 3, 1,\n",
       "        4, 4, 3, 1, 3, 0, 1, 1, 1, 3, 0, 0, 0, 0, 0, 0, 0, 0, 0, 0, 0, 0, 0, 0])"
      ]
     },
     "metadata": {},
     "execution_count": 8
    }
   ]
  },
  {
   "cell_type": "markdown",
   "source": [
    "#### GraphConv Layer in dgl\n",
    "```\n",
    "dgl.nn.pytorch.conv.GraphConv(in_feats, out_feats,\n",
    "                                  norm='both', weight=True, bias=True,\n",
    "                                      activation=None,\n",
    "                                          allow_zero_in_degree=False)\n",
    "\n"
   ],
   "metadata": {
    "id": "aGaVhiaU9Fcu",
    "pycharm": {
     "name": "#%% md\n"
    }
   }
  },
  {
   "cell_type": "code",
   "source": [
    "graph = dgl.remove_self_loop(graph)\n",
    "graph = dgl.add_self_loop(graph)"
   ],
   "metadata": {
    "id": "qVq07MXx89-B",
    "pycharm": {
     "name": "#%%\n"
    }
   },
   "execution_count": 9,
   "outputs": []
  },
  {
   "cell_type": "code",
   "source": [
    "feat_in = features.shape[-1]\n",
    "feat_in"
   ],
   "metadata": {
    "id": "uDonbDey-Dq3",
    "pycharm": {
     "name": "#%%\n"
    },
    "colab": {
     "base_uri": "https://localhost:8080/"
    },
    "outputId": "6dd8ede1-39e6-40d6-8ac0-61ee3ec5038b"
   },
   "execution_count": 10,
   "outputs": [
    {
     "output_type": "execute_result",
     "data": {
      "text/plain": [
       "3703"
      ]
     },
     "metadata": {},
     "execution_count": 10
    }
   ]
  },
  {
   "cell_type": "code",
   "execution_count": 11,
   "outputs": [
    {
     "output_type": "execute_result",
     "data": {
      "text/plain": [
       "6"
      ]
     },
     "metadata": {},
     "execution_count": 11
    }
   ],
   "source": [
    "num_class = dataset.num_classes\n",
    "num_class"
   ],
   "metadata": {
    "pycharm": {
     "name": "#%%\n"
    },
    "colab": {
     "base_uri": "https://localhost:8080/"
    },
    "id": "EhR_9tFz8vRq",
    "outputId": "89cd3ed7-066c-43cf-b639-f1cce49a34a9"
   }
  },
  {
   "cell_type": "code",
   "source": [
    "from dgl.nn import GraphConv\n",
    "import torch.nn as nn\n",
    "import torch.nn.functional as func"
   ],
   "metadata": {
    "id": "1Luh0011Fp0c",
    "pycharm": {
     "name": "#%%\n"
    }
   },
   "execution_count": 12,
   "outputs": []
  },
  {
   "cell_type": "code",
   "source": [
    "class Net(nn.Module):\n",
    "    def __init__(self):\n",
    "        super(Net, self).__init__()\n",
    "        self.layer1 = GraphConv(feat_in, 64)\n",
    "        self.layer2 = GraphConv(64, num_class)\n",
    "        self.dropout = nn.Dropout(0.5)\n",
    "\n",
    "    def forward(self, g, features):\n",
    "        h1 = func.relu(self.layer1(g, features))\n",
    "        h1 = self.dropout(h1)\n",
    "        h2 = self.layer2(g, h1)\n",
    "        return h2\n",
    "\n",
    "net = Net()"
   ],
   "metadata": {
    "id": "-RtK_SfjGQEy",
    "pycharm": {
     "name": "#%%\n"
    }
   },
   "execution_count": 13,
   "outputs": []
  },
  {
   "cell_type": "code",
   "source": [
    "import torch"
   ],
   "metadata": {
    "id": "ckOkeZXpIyCP",
    "pycharm": {
     "name": "#%%\n"
    }
   },
   "execution_count": 14,
   "outputs": []
  },
  {
   "cell_type": "code",
   "source": [
    "def evaluate(model, g, features, labels, mask):\n",
    "    model.eval()\n",
    "    with torch.inference_mode():\n",
    "        pred = model(g, features)\n",
    "        pred = pred[mask]\n",
    "        labels = labels[mask]\n",
    "\n",
    "        _, indices = torch.max(pred, dim=1)\n",
    "        correct = torch.sum(indices == labels)\n",
    "\n",
    "        return correct.item()*1.0/len(labels)"
   ],
   "metadata": {
    "id": "fVl62811JHLH",
    "pycharm": {
     "name": "#%%\n"
    }
   },
   "execution_count": 15,
   "outputs": []
  },
  {
   "cell_type": "code",
   "source": [
    "optimizer = torch.optim.Adam(net.parameters(), lr=1e-2, weight_decay=5e-4, eps=1e-8, amsgrad=True)\n",
    "\n",
    "loss_list =[]\n",
    "acc_list = []\n",
    "all_pred = []\n",
    "\n",
    "EPOCHS = 100\n",
    "for epoch in range(EPOCHS):\n",
    "    net.train()\n",
    "    # forward\n",
    "    pred = net(graph, features)\n",
    "\n",
    "    logp = func.log_softmax(pred,1)\n",
    "    all_pred.append(logp)\n",
    "\n",
    "    # loss\n",
    "    loss = func.cross_entropy(logp[train_mask], labels[train_mask])\n",
    "    loss_list.append(loss.item())\n",
    "    # BackwardPropagation\n",
    "    optimizer.zero_grad()\n",
    "    loss.backward()\n",
    "    optimizer.step()\n",
    "\n",
    "    # Test\n",
    "    acc = evaluate(net, graph, features, labels, test_mask)\n",
    "    acc_list.append(acc)"
   ],
   "metadata": {
    "id": "qxgPh_qlHT4g",
    "pycharm": {
     "name": "#%%\n"
    }
   },
   "execution_count": 16,
   "outputs": []
  },
  {
   "cell_type": "code",
   "source": [
    "import matplotlib.pyplot as plt\n",
    "\n",
    "fig = plt.figure(figsize=(10, 6))\n",
    "\n",
    "fig.add_subplot(1, 2, 1)\n",
    "plt.title('Training Accuracy')\n",
    "plt.plot(acc_list)\n",
    "plt.xlabel('Epoch')\n",
    "plt.ylabel('Accuracy')\n",
    "\n",
    "fig.add_subplot(1, 2, 2)\n",
    "plt.title('Training Loss')\n",
    "plt.plot(loss_list)\n",
    "plt.xlabel('Epoch')\n",
    "plt.ylabel('Loss')\n",
    "\n",
    "plt.show()"
   ],
   "metadata": {
    "colab": {
     "base_uri": "https://localhost:8080/",
     "height": 564
    },
    "id": "N4N_hcPnKoYT",
    "outputId": "005d0cf6-0173-42a4-d5b7-e60f1363eccd",
    "pycharm": {
     "name": "#%%\n"
    }
   },
   "execution_count": 18,
   "outputs": [
    {
     "output_type": "display_data",
     "data": {
      "text/plain": [
       "<Figure size 1000x600 with 2 Axes>"
      ],
      "image/png": "[encoded data removed]"
     },
     "metadata": {}
    }
   ]
  }
 ]
}